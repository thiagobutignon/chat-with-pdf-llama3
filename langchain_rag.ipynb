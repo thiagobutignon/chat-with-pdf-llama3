{
 "cells": [
  {
   "cell_type": "markdown",
   "metadata": {},
   "source": [
    "# Ingesting PDF"
   ]
  },
  {
   "cell_type": "code",
   "execution_count": 17,
   "metadata": {},
   "outputs": [
    {
     "name": "stdout",
     "output_type": "stream",
     "text": [
      "Note: you may need to restart the kernel to use updated packages.\n",
      "Defaulting to user installation because normal site-packages is not writeable\n",
      "Requirement already satisfied: unstructured[all-docs] in /Users/thiagobutignon/Library/Python/3.9/lib/python/site-packages (0.13.7)\n",
      "Requirement already satisfied: chardet in /Users/thiagobutignon/Library/Python/3.9/lib/python/site-packages (from unstructured[all-docs]) (5.2.0)\n",
      "Requirement already satisfied: filetype in /Users/thiagobutignon/Library/Python/3.9/lib/python/site-packages (from unstructured[all-docs]) (1.2.0)\n",
      "Requirement already satisfied: python-magic in /Users/thiagobutignon/Library/Python/3.9/lib/python/site-packages (from unstructured[all-docs]) (0.4.27)\n",
      "Requirement already satisfied: lxml in /Users/thiagobutignon/Library/Python/3.9/lib/python/site-packages (from unstructured[all-docs]) (5.2.1)\n",
      "Requirement already satisfied: nltk in /Users/thiagobutignon/Library/Python/3.9/lib/python/site-packages (from unstructured[all-docs]) (3.8.1)\n",
      "Requirement already satisfied: tabulate in /Users/thiagobutignon/Library/Python/3.9/lib/python/site-packages (from unstructured[all-docs]) (0.9.0)\n",
      "Requirement already satisfied: requests in /Users/thiagobutignon/Library/Python/3.9/lib/python/site-packages (from unstructured[all-docs]) (2.31.0)\n",
      "Requirement already satisfied: beautifulsoup4 in /Users/thiagobutignon/Library/Python/3.9/lib/python/site-packages (from unstructured[all-docs]) (4.12.3)\n",
      "Requirement already satisfied: emoji in /Users/thiagobutignon/Library/Python/3.9/lib/python/site-packages (from unstructured[all-docs]) (2.11.1)\n",
      "Requirement already satisfied: dataclasses-json in /Users/thiagobutignon/Library/Python/3.9/lib/python/site-packages (from unstructured[all-docs]) (0.6.5)\n",
      "Requirement already satisfied: python-iso639 in /Users/thiagobutignon/Library/Python/3.9/lib/python/site-packages (from unstructured[all-docs]) (2024.4.27)\n",
      "Requirement already satisfied: langdetect in /Users/thiagobutignon/Library/Python/3.9/lib/python/site-packages (from unstructured[all-docs]) (1.0.9)\n",
      "Requirement already satisfied: numpy in /Users/thiagobutignon/Library/Python/3.9/lib/python/site-packages (from unstructured[all-docs]) (1.26.3)\n",
      "Requirement already satisfied: rapidfuzz in /Users/thiagobutignon/Library/Python/3.9/lib/python/site-packages (from unstructured[all-docs]) (3.9.0)\n",
      "Requirement already satisfied: backoff in /Users/thiagobutignon/Library/Python/3.9/lib/python/site-packages (from unstructured[all-docs]) (2.2.1)\n",
      "Requirement already satisfied: typing-extensions in /Users/thiagobutignon/Library/Python/3.9/lib/python/site-packages (from unstructured[all-docs]) (4.9.0)\n",
      "Requirement already satisfied: unstructured-client in /Users/thiagobutignon/Library/Python/3.9/lib/python/site-packages (from unstructured[all-docs]) (0.22.0)\n",
      "Requirement already satisfied: wrapt in /Users/thiagobutignon/Library/Python/3.9/lib/python/site-packages (from unstructured[all-docs]) (1.16.0)\n",
      "Requirement already satisfied: google-cloud-vision in /Users/thiagobutignon/Library/Python/3.9/lib/python/site-packages (from unstructured[all-docs]) (3.7.2)\n",
      "Requirement already satisfied: pikepdf in /Users/thiagobutignon/Library/Python/3.9/lib/python/site-packages (from unstructured[all-docs]) (8.15.1)\n",
      "Requirement already satisfied: pandas in /Users/thiagobutignon/Library/Python/3.9/lib/python/site-packages (from unstructured[all-docs]) (2.2.2)\n",
      "Requirement already satisfied: msg-parser in /Users/thiagobutignon/Library/Python/3.9/lib/python/site-packages (from unstructured[all-docs]) (1.2.0)\n",
      "Requirement already satisfied: xlrd in /Users/thiagobutignon/Library/Python/3.9/lib/python/site-packages (from unstructured[all-docs]) (2.0.1)\n",
      "Requirement already satisfied: pillow-heif in /Users/thiagobutignon/Library/Python/3.9/lib/python/site-packages (from unstructured[all-docs]) (0.16.0)\n",
      "Requirement already satisfied: python-pptx<=0.6.23 in /Users/thiagobutignon/Library/Python/3.9/lib/python/site-packages (from unstructured[all-docs]) (0.6.23)\n",
      "Requirement already satisfied: python-docx in /Users/thiagobutignon/Library/Python/3.9/lib/python/site-packages (from unstructured[all-docs]) (1.1.2)\n",
      "Requirement already satisfied: networkx in /Users/thiagobutignon/Library/Python/3.9/lib/python/site-packages (from unstructured[all-docs]) (3.2.1)\n",
      "Requirement already satisfied: openpyxl in /Users/thiagobutignon/Library/Python/3.9/lib/python/site-packages (from unstructured[all-docs]) (3.1.2)\n",
      "Requirement already satisfied: unstructured.pytesseract>=0.3.12 in /Users/thiagobutignon/Library/Python/3.9/lib/python/site-packages (from unstructured[all-docs]) (0.3.12)\n",
      "Requirement already satisfied: pdfminer.six in /Users/thiagobutignon/Library/Python/3.9/lib/python/site-packages (from unstructured[all-docs]) (20231228)\n",
      "Requirement already satisfied: pypandoc in /Users/thiagobutignon/Library/Python/3.9/lib/python/site-packages (from unstructured[all-docs]) (1.13)\n",
      "Requirement already satisfied: unstructured-inference==0.7.31 in /Users/thiagobutignon/Library/Python/3.9/lib/python/site-packages (from unstructured[all-docs]) (0.7.31)\n",
      "Requirement already satisfied: onnx in /Users/thiagobutignon/Library/Python/3.9/lib/python/site-packages (from unstructured[all-docs]) (1.16.0)\n",
      "Requirement already satisfied: markdown in /Users/thiagobutignon/Library/Python/3.9/lib/python/site-packages (from unstructured[all-docs]) (3.6)\n",
      "Requirement already satisfied: pypdf in /Users/thiagobutignon/Library/Python/3.9/lib/python/site-packages (from unstructured[all-docs]) (4.2.0)\n",
      "Requirement already satisfied: pdf2image in /Users/thiagobutignon/Library/Python/3.9/lib/python/site-packages (from unstructured[all-docs]) (1.17.0)\n",
      "Requirement already satisfied: layoutparser[layoutmodels,tesseract] in /Users/thiagobutignon/Library/Python/3.9/lib/python/site-packages (from unstructured-inference==0.7.31->unstructured[all-docs]) (0.3.4)\n",
      "Requirement already satisfied: python-multipart in /Users/thiagobutignon/Library/Python/3.9/lib/python/site-packages (from unstructured-inference==0.7.31->unstructured[all-docs]) (0.0.9)\n",
      "Requirement already satisfied: huggingface-hub in /Users/thiagobutignon/Library/Python/3.9/lib/python/site-packages (from unstructured-inference==0.7.31->unstructured[all-docs]) (0.20.2)\n",
      "Requirement already satisfied: opencv-python!=4.7.0.68 in /Users/thiagobutignon/Library/Python/3.9/lib/python/site-packages (from unstructured-inference==0.7.31->unstructured[all-docs]) (4.9.0.80)\n",
      "Requirement already satisfied: onnxruntime>=1.17.0 in /Users/thiagobutignon/Library/Python/3.9/lib/python/site-packages (from unstructured-inference==0.7.31->unstructured[all-docs]) (1.17.3)\n",
      "Requirement already satisfied: transformers>=4.25.1 in /Users/thiagobutignon/Library/Python/3.9/lib/python/site-packages (from unstructured-inference==0.7.31->unstructured[all-docs]) (4.40.2)\n",
      "Requirement already satisfied: Pillow>=3.3.2 in /Users/thiagobutignon/Library/Python/3.9/lib/python/site-packages (from python-pptx<=0.6.23->unstructured[all-docs]) (10.2.0)\n",
      "Requirement already satisfied: XlsxWriter>=0.5.7 in /Users/thiagobutignon/Library/Python/3.9/lib/python/site-packages (from python-pptx<=0.6.23->unstructured[all-docs]) (3.2.0)\n",
      "Requirement already satisfied: packaging>=21.3 in /Users/thiagobutignon/Library/Python/3.9/lib/python/site-packages (from unstructured.pytesseract>=0.3.12->unstructured[all-docs]) (23.2)\n",
      "Requirement already satisfied: soupsieve>1.2 in /Users/thiagobutignon/Library/Python/3.9/lib/python/site-packages (from beautifulsoup4->unstructured[all-docs]) (2.5)\n",
      "Requirement already satisfied: marshmallow<4.0.0,>=3.18.0 in /Users/thiagobutignon/Library/Python/3.9/lib/python/site-packages (from dataclasses-json->unstructured[all-docs]) (3.21.2)\n",
      "Requirement already satisfied: typing-inspect<1,>=0.4.0 in /Users/thiagobutignon/Library/Python/3.9/lib/python/site-packages (from dataclasses-json->unstructured[all-docs]) (0.9.0)\n",
      "Requirement already satisfied: google-api-core!=2.0.*,!=2.1.*,!=2.10.*,!=2.2.*,!=2.3.*,!=2.4.*,!=2.5.*,!=2.6.*,!=2.7.*,!=2.8.*,!=2.9.*,<3.0.0dev,>=1.34.1 in /Users/thiagobutignon/Library/Python/3.9/lib/python/site-packages (from google-api-core[grpc]!=2.0.*,!=2.1.*,!=2.10.*,!=2.2.*,!=2.3.*,!=2.4.*,!=2.5.*,!=2.6.*,!=2.7.*,!=2.8.*,!=2.9.*,<3.0.0dev,>=1.34.1->google-cloud-vision->unstructured[all-docs]) (2.19.0)\n",
      "Requirement already satisfied: google-auth!=2.24.0,!=2.25.0,<3.0.0dev,>=2.14.1 in /Users/thiagobutignon/Library/Python/3.9/lib/python/site-packages (from google-cloud-vision->unstructured[all-docs]) (2.29.0)\n",
      "Requirement already satisfied: proto-plus<2.0.0dev,>=1.22.3 in /Users/thiagobutignon/Library/Python/3.9/lib/python/site-packages (from google-cloud-vision->unstructured[all-docs]) (1.23.0)\n",
      "Requirement already satisfied: protobuf!=3.20.0,!=3.20.1,!=4.21.0,!=4.21.1,!=4.21.2,!=4.21.3,!=4.21.4,!=4.21.5,<5.0.0dev,>=3.19.5 in /Users/thiagobutignon/Library/Python/3.9/lib/python/site-packages (from google-cloud-vision->unstructured[all-docs]) (4.25.3)\n",
      "Requirement already satisfied: six in /Users/thiagobutignon/Library/Python/3.9/lib/python/site-packages (from langdetect->unstructured[all-docs]) (1.16.0)\n",
      "Requirement already satisfied: importlib-metadata>=4.4 in /Users/thiagobutignon/Library/Python/3.9/lib/python/site-packages (from markdown->unstructured[all-docs]) (7.0.0)\n",
      "Requirement already satisfied: olefile>=0.46 in /Users/thiagobutignon/Library/Python/3.9/lib/python/site-packages (from msg-parser->unstructured[all-docs]) (0.47)\n",
      "Requirement already satisfied: click in /Users/thiagobutignon/Library/Python/3.9/lib/python/site-packages (from nltk->unstructured[all-docs]) (8.1.7)\n",
      "Requirement already satisfied: joblib in /Users/thiagobutignon/Library/Python/3.9/lib/python/site-packages (from nltk->unstructured[all-docs]) (1.4.2)\n",
      "Requirement already satisfied: regex>=2021.8.3 in /Users/thiagobutignon/Library/Python/3.9/lib/python/site-packages (from nltk->unstructured[all-docs]) (2023.12.25)\n",
      "Requirement already satisfied: tqdm in /Users/thiagobutignon/Library/Python/3.9/lib/python/site-packages (from nltk->unstructured[all-docs]) (4.66.1)\n",
      "Requirement already satisfied: et-xmlfile in /Users/thiagobutignon/Library/Python/3.9/lib/python/site-packages (from openpyxl->unstructured[all-docs]) (1.1.0)\n",
      "Requirement already satisfied: python-dateutil>=2.8.2 in /Users/thiagobutignon/Library/Python/3.9/lib/python/site-packages (from pandas->unstructured[all-docs]) (2.8.2)\n",
      "Requirement already satisfied: pytz>=2020.1 in /Users/thiagobutignon/Library/Python/3.9/lib/python/site-packages (from pandas->unstructured[all-docs]) (2024.1)\n",
      "Requirement already satisfied: tzdata>=2022.7 in /Users/thiagobutignon/Library/Python/3.9/lib/python/site-packages (from pandas->unstructured[all-docs]) (2024.1)\n",
      "Requirement already satisfied: charset-normalizer>=2.0.0 in /Users/thiagobutignon/Library/Python/3.9/lib/python/site-packages (from pdfminer.six->unstructured[all-docs]) (3.3.2)\n",
      "Requirement already satisfied: cryptography>=36.0.0 in /Users/thiagobutignon/Library/Python/3.9/lib/python/site-packages (from pdfminer.six->unstructured[all-docs]) (42.0.7)\n",
      "Requirement already satisfied: Deprecated in /Users/thiagobutignon/Library/Python/3.9/lib/python/site-packages (from pikepdf->unstructured[all-docs]) (1.2.14)\n",
      "Requirement already satisfied: idna<4,>=2.5 in /Users/thiagobutignon/Library/Python/3.9/lib/python/site-packages (from requests->unstructured[all-docs]) (3.6)\n",
      "Requirement already satisfied: urllib3<3,>=1.21.1 in /Users/thiagobutignon/Library/Python/3.9/lib/python/site-packages (from requests->unstructured[all-docs]) (2.1.0)\n",
      "Requirement already satisfied: certifi>=2017.4.17 in /Users/thiagobutignon/Library/Python/3.9/lib/python/site-packages (from requests->unstructured[all-docs]) (2023.11.17)\n",
      "Requirement already satisfied: deepdiff>=6.0 in /Users/thiagobutignon/Library/Python/3.9/lib/python/site-packages (from unstructured-client->unstructured[all-docs]) (7.0.1)\n",
      "Requirement already satisfied: jsonpath-python>=1.0.6 in /Users/thiagobutignon/Library/Python/3.9/lib/python/site-packages (from unstructured-client->unstructured[all-docs]) (1.0.6)\n",
      "Requirement already satisfied: mypy-extensions>=1.0.0 in /Users/thiagobutignon/Library/Python/3.9/lib/python/site-packages (from unstructured-client->unstructured[all-docs]) (1.0.0)\n",
      "Requirement already satisfied: cffi>=1.12 in /Users/thiagobutignon/Library/Python/3.9/lib/python/site-packages (from cryptography>=36.0.0->pdfminer.six->unstructured[all-docs]) (1.16.0)\n",
      "Requirement already satisfied: ordered-set<4.2.0,>=4.1.0 in /Users/thiagobutignon/Library/Python/3.9/lib/python/site-packages (from deepdiff>=6.0->unstructured-client->unstructured[all-docs]) (4.1.0)\n",
      "Requirement already satisfied: googleapis-common-protos<2.0.dev0,>=1.56.2 in /Users/thiagobutignon/Library/Python/3.9/lib/python/site-packages (from google-api-core!=2.0.*,!=2.1.*,!=2.10.*,!=2.2.*,!=2.3.*,!=2.4.*,!=2.5.*,!=2.6.*,!=2.7.*,!=2.8.*,!=2.9.*,<3.0.0dev,>=1.34.1->google-api-core[grpc]!=2.0.*,!=2.1.*,!=2.10.*,!=2.2.*,!=2.3.*,!=2.4.*,!=2.5.*,!=2.6.*,!=2.7.*,!=2.8.*,!=2.9.*,<3.0.0dev,>=1.34.1->google-cloud-vision->unstructured[all-docs]) (1.63.0)\n",
      "Requirement already satisfied: grpcio<2.0dev,>=1.33.2 in /Users/thiagobutignon/Library/Python/3.9/lib/python/site-packages (from google-api-core[grpc]!=2.0.*,!=2.1.*,!=2.10.*,!=2.2.*,!=2.3.*,!=2.4.*,!=2.5.*,!=2.6.*,!=2.7.*,!=2.8.*,!=2.9.*,<3.0.0dev,>=1.34.1->google-cloud-vision->unstructured[all-docs]) (1.63.0)\n",
      "Requirement already satisfied: grpcio-status<2.0.dev0,>=1.33.2 in /Users/thiagobutignon/Library/Python/3.9/lib/python/site-packages (from google-api-core[grpc]!=2.0.*,!=2.1.*,!=2.10.*,!=2.2.*,!=2.3.*,!=2.4.*,!=2.5.*,!=2.6.*,!=2.7.*,!=2.8.*,!=2.9.*,<3.0.0dev,>=1.34.1->google-cloud-vision->unstructured[all-docs]) (1.62.2)\n",
      "Requirement already satisfied: cachetools<6.0,>=2.0.0 in /Users/thiagobutignon/Library/Python/3.9/lib/python/site-packages (from google-auth!=2.24.0,!=2.25.0,<3.0.0dev,>=2.14.1->google-cloud-vision->unstructured[all-docs]) (5.3.3)\n",
      "Requirement already satisfied: pyasn1-modules>=0.2.1 in /Users/thiagobutignon/Library/Python/3.9/lib/python/site-packages (from google-auth!=2.24.0,!=2.25.0,<3.0.0dev,>=2.14.1->google-cloud-vision->unstructured[all-docs]) (0.4.0)\n",
      "Requirement already satisfied: rsa<5,>=3.1.4 in /Users/thiagobutignon/Library/Python/3.9/lib/python/site-packages (from google-auth!=2.24.0,!=2.25.0,<3.0.0dev,>=2.14.1->google-cloud-vision->unstructured[all-docs]) (4.9)\n",
      "Requirement already satisfied: zipp>=0.5 in /Users/thiagobutignon/Library/Python/3.9/lib/python/site-packages (from importlib-metadata>=4.4->markdown->unstructured[all-docs]) (3.17.0)\n",
      "Requirement already satisfied: coloredlogs in /Users/thiagobutignon/Library/Python/3.9/lib/python/site-packages (from onnxruntime>=1.17.0->unstructured-inference==0.7.31->unstructured[all-docs]) (15.0.1)\n",
      "Requirement already satisfied: flatbuffers in /Users/thiagobutignon/Library/Python/3.9/lib/python/site-packages (from onnxruntime>=1.17.0->unstructured-inference==0.7.31->unstructured[all-docs]) (24.3.25)\n",
      "Requirement already satisfied: sympy in /Users/thiagobutignon/Library/Python/3.9/lib/python/site-packages (from onnxruntime>=1.17.0->unstructured-inference==0.7.31->unstructured[all-docs]) (1.12)\n",
      "Requirement already satisfied: filelock in /Users/thiagobutignon/Library/Python/3.9/lib/python/site-packages (from transformers>=4.25.1->unstructured-inference==0.7.31->unstructured[all-docs]) (3.13.1)\n",
      "Requirement already satisfied: pyyaml>=5.1 in /Users/thiagobutignon/Library/Python/3.9/lib/python/site-packages (from transformers>=4.25.1->unstructured-inference==0.7.31->unstructured[all-docs]) (6.0.1)\n",
      "Requirement already satisfied: tokenizers<0.20,>=0.19 in /Users/thiagobutignon/Library/Python/3.9/lib/python/site-packages (from transformers>=4.25.1->unstructured-inference==0.7.31->unstructured[all-docs]) (0.19.1)\n",
      "Requirement already satisfied: safetensors>=0.4.1 in /Users/thiagobutignon/Library/Python/3.9/lib/python/site-packages (from transformers>=4.25.1->unstructured-inference==0.7.31->unstructured[all-docs]) (0.4.3)\n",
      "Requirement already satisfied: fsspec>=2023.5.0 in /Users/thiagobutignon/Library/Python/3.9/lib/python/site-packages (from huggingface-hub->unstructured-inference==0.7.31->unstructured[all-docs]) (2023.12.2)\n",
      "Requirement already satisfied: scipy in /Users/thiagobutignon/Library/Python/3.9/lib/python/site-packages (from layoutparser[layoutmodels,tesseract]->unstructured-inference==0.7.31->unstructured[all-docs]) (1.13.0)\n",
      "Requirement already satisfied: iopath in /Users/thiagobutignon/Library/Python/3.9/lib/python/site-packages (from layoutparser[layoutmodels,tesseract]->unstructured-inference==0.7.31->unstructured[all-docs]) (0.1.10)\n",
      "Requirement already satisfied: pdfplumber in /Users/thiagobutignon/Library/Python/3.9/lib/python/site-packages (from layoutparser[layoutmodels,tesseract]->unstructured-inference==0.7.31->unstructured[all-docs]) (0.11.0)\n",
      "Requirement already satisfied: pytesseract in /Users/thiagobutignon/Library/Python/3.9/lib/python/site-packages (from layoutparser[layoutmodels,tesseract]->unstructured-inference==0.7.31->unstructured[all-docs]) (0.3.10)\n",
      "Requirement already satisfied: torch in /Users/thiagobutignon/Library/Python/3.9/lib/python/site-packages (from layoutparser[layoutmodels,tesseract]->unstructured-inference==0.7.31->unstructured[all-docs]) (2.3.0)\n",
      "Requirement already satisfied: torchvision in /Users/thiagobutignon/Library/Python/3.9/lib/python/site-packages (from layoutparser[layoutmodels,tesseract]->unstructured-inference==0.7.31->unstructured[all-docs]) (0.18.0)\n",
      "Requirement already satisfied: effdet in /Users/thiagobutignon/Library/Python/3.9/lib/python/site-packages (from layoutparser[layoutmodels,tesseract]->unstructured-inference==0.7.31->unstructured[all-docs]) (0.4.1)\n",
      "Requirement already satisfied: pycparser in /Users/thiagobutignon/Library/Python/3.9/lib/python/site-packages (from cffi>=1.12->cryptography>=36.0.0->pdfminer.six->unstructured[all-docs]) (2.22)\n",
      "Requirement already satisfied: pyasn1<0.7.0,>=0.4.6 in /Users/thiagobutignon/Library/Python/3.9/lib/python/site-packages (from pyasn1-modules>=0.2.1->google-auth!=2.24.0,!=2.25.0,<3.0.0dev,>=2.14.1->google-cloud-vision->unstructured[all-docs]) (0.6.0)\n",
      "Requirement already satisfied: humanfriendly>=9.1 in /Users/thiagobutignon/Library/Python/3.9/lib/python/site-packages (from coloredlogs->onnxruntime>=1.17.0->unstructured-inference==0.7.31->unstructured[all-docs]) (10.0)\n",
      "Requirement already satisfied: timm>=0.9.2 in /Users/thiagobutignon/Library/Python/3.9/lib/python/site-packages (from effdet->layoutparser[layoutmodels,tesseract]->unstructured-inference==0.7.31->unstructured[all-docs]) (0.9.16)\n",
      "Requirement already satisfied: pycocotools>=2.0.2 in /Users/thiagobutignon/Library/Python/3.9/lib/python/site-packages (from effdet->layoutparser[layoutmodels,tesseract]->unstructured-inference==0.7.31->unstructured[all-docs]) (2.0.7)\n",
      "Requirement already satisfied: omegaconf>=2.0 in /Users/thiagobutignon/Library/Python/3.9/lib/python/site-packages (from effdet->layoutparser[layoutmodels,tesseract]->unstructured-inference==0.7.31->unstructured[all-docs]) (2.3.0)\n",
      "Requirement already satisfied: jinja2 in /Users/thiagobutignon/Library/Python/3.9/lib/python/site-packages (from torch->layoutparser[layoutmodels,tesseract]->unstructured-inference==0.7.31->unstructured[all-docs]) (3.1.3)\n",
      "Requirement already satisfied: portalocker in /Users/thiagobutignon/Library/Python/3.9/lib/python/site-packages (from iopath->layoutparser[layoutmodels,tesseract]->unstructured-inference==0.7.31->unstructured[all-docs]) (2.8.2)\n",
      "Requirement already satisfied: pypdfium2>=4.18.0 in /Users/thiagobutignon/Library/Python/3.9/lib/python/site-packages (from pdfplumber->layoutparser[layoutmodels,tesseract]->unstructured-inference==0.7.31->unstructured[all-docs]) (4.30.0)\n",
      "Requirement already satisfied: mpmath>=0.19 in /Users/thiagobutignon/Library/Python/3.9/lib/python/site-packages (from sympy->onnxruntime>=1.17.0->unstructured-inference==0.7.31->unstructured[all-docs]) (1.3.0)\n",
      "Requirement already satisfied: antlr4-python3-runtime==4.9.* in /Users/thiagobutignon/Library/Python/3.9/lib/python/site-packages (from omegaconf>=2.0->effdet->layoutparser[layoutmodels,tesseract]->unstructured-inference==0.7.31->unstructured[all-docs]) (4.9.3)\n",
      "Requirement already satisfied: matplotlib>=2.1.0 in /Users/thiagobutignon/Library/Python/3.9/lib/python/site-packages (from pycocotools>=2.0.2->effdet->layoutparser[layoutmodels,tesseract]->unstructured-inference==0.7.31->unstructured[all-docs]) (3.8.2)\n",
      "Requirement already satisfied: MarkupSafe>=2.0 in /Users/thiagobutignon/Library/Python/3.9/lib/python/site-packages (from jinja2->torch->layoutparser[layoutmodels,tesseract]->unstructured-inference==0.7.31->unstructured[all-docs]) (2.1.3)\n",
      "Requirement already satisfied: contourpy>=1.0.1 in /Users/thiagobutignon/Library/Python/3.9/lib/python/site-packages (from matplotlib>=2.1.0->pycocotools>=2.0.2->effdet->layoutparser[layoutmodels,tesseract]->unstructured-inference==0.7.31->unstructured[all-docs]) (1.2.0)\n",
      "Requirement already satisfied: cycler>=0.10 in /Users/thiagobutignon/Library/Python/3.9/lib/python/site-packages (from matplotlib>=2.1.0->pycocotools>=2.0.2->effdet->layoutparser[layoutmodels,tesseract]->unstructured-inference==0.7.31->unstructured[all-docs]) (0.12.1)\n",
      "Requirement already satisfied: fonttools>=4.22.0 in /Users/thiagobutignon/Library/Python/3.9/lib/python/site-packages (from matplotlib>=2.1.0->pycocotools>=2.0.2->effdet->layoutparser[layoutmodels,tesseract]->unstructured-inference==0.7.31->unstructured[all-docs]) (4.47.2)\n",
      "Requirement already satisfied: kiwisolver>=1.3.1 in /Users/thiagobutignon/Library/Python/3.9/lib/python/site-packages (from matplotlib>=2.1.0->pycocotools>=2.0.2->effdet->layoutparser[layoutmodels,tesseract]->unstructured-inference==0.7.31->unstructured[all-docs]) (1.4.5)\n",
      "Requirement already satisfied: pyparsing>=2.3.1 in /Users/thiagobutignon/Library/Python/3.9/lib/python/site-packages (from matplotlib>=2.1.0->pycocotools>=2.0.2->effdet->layoutparser[layoutmodels,tesseract]->unstructured-inference==0.7.31->unstructured[all-docs]) (3.1.1)\n",
      "Requirement already satisfied: importlib-resources>=3.2.0 in /Users/thiagobutignon/Library/Python/3.9/lib/python/site-packages (from matplotlib>=2.1.0->pycocotools>=2.0.2->effdet->layoutparser[layoutmodels,tesseract]->unstructured-inference==0.7.31->unstructured[all-docs]) (6.1.1)\n",
      "Note: you may need to restart the kernel to use updated packages.\n"
     ]
    }
   ],
   "source": [
    "%pip install --q unstructured langchain\n",
    "%pip install \"unstructured[all-docs]\""
   ]
  },
  {
   "cell_type": "code",
   "execution_count": 18,
   "metadata": {},
   "outputs": [],
   "source": [
    "from langchain_community.document_loaders import UnstructuredPDFLoader\n",
    "from langchain_community.document_loaders import OnlinePDFLoader"
   ]
  },
  {
   "cell_type": "code",
   "execution_count": 19,
   "metadata": {},
   "outputs": [],
   "source": [
    "import os\n",
    "from langchain_community.document_loaders import UnstructuredPDFLoader\n",
    "\n",
    "folder_path = \"./trendwatching\"\n",
    "\n",
    "# Check if the folder path exists\n",
    "if os.path.exists(folder_path) and os.path.isdir(folder_path):\n",
    "    # Iterate over all files in the trendwatching folder\n",
    "    for filename in os.listdir(folder_path):\n",
    "        if filename.endswith(\".pdf\"):  # Check if the file is a PDF\n",
    "            file_path = os.path.join(folder_path, filename)\n",
    "            loader = UnstructuredPDFLoader(file_path=file_path)\n",
    "            data = loader.load()\n",
    "            # Process the data as needed\n",
    "else:\n",
    "    print(\"Trendwatching folder not found or is not a directory\")"
   ]
  },
  {
   "cell_type": "code",
   "execution_count": 20,
   "metadata": {},
   "outputs": [
    {
     "data": {
      "text/plain": [
       "\"What is\\n\\n?\\n\\nA brand-new, monthly\\n\\nbrieﬁng to help you\\n\\nnavigate this wild New\\n\\nNormal. We’ll be\\n\\ncovering the trends no\\n\\nbrand can afford to\\n\\nignore...but that’s not all.\\n\\nEvery issue includes\\n\\nexercises and prompts to\\n\\nget your team innovating:\\n\\nMaking shifts & making\\n\\nsh*t happen!\\n\\nSHARE\\n\\nIssue No. 3 · October\\n\\n2020\\n\\nA global crisis drafting every\\n\\nbrand – yours included.\\n\\nAs they’re ﬁghting off the\\n\\nvirus, ﬁghting inequality,\\n\\nﬁghting to maintain their\\n\\nlivelihoods...consumers\\n\\nglobally are trying to arm\\n\\nthemselves with\\n\\nknowledge. The facts! Yet\\n\\nbias and misinformation\\n\\nare muddling what\\n\\nshould be clear.\\n\\nConsumers are anxiously\\n\\nanalyzing each bit of\\n\\nnews for themselves:\\n\\nWhat’s fact? What’s fake?\\n\\nWhat’s operating in a\\n\\nmurky, middle ground?\\n\\nWhat does this mean for\\n\\nme? Consumers expect\\n\\nall brands – not just in\\n\\nmedia – to take action.\\n\\nThere are two key\\n\\nopportunities: You can\\n\\nhelp them spot what’s\\n\\nquestionable and read\\n\\nbetween the tweets. Your\\n\\nﬁrm can additionally offer\\n\\nan indispensable\\n\\nconsumer resource, full of\\n\\nfacts they can\\n\\ntrust...which, in turn, will\\n\\nboost trust in your own\\n\\nbrand.\\n\\nThe Fight For Facts\\n\\nThanks to the *big\\n\\nevents* of the past year –\\n\\nyou know what they are! –\\n\\nconsumers’ eyes are\\n\\nglued to the news.\\n\\nNews\\n\\nconsumption is\\n\\non the rise: 67%\\n\\nof people\\n\\nsurveyed in 13\\n\\ncountries\\n\\nreported\\n\\nconsuming more\\n\\nnews coverage\\n\\nas a result of the\\n\\npandemic.\\n\\nWe know, the “fake news”\\n\\nphenomenon isn’t exactly\\n\\nnews in 2020. But\\n\\nconsumers’ ramped- up\\n\\nsearch for news\\n\\nprompted a\\n\\nmisinformation\\n\\navalanche, what the\\n\\nWorld Health\\n\\nOrganization (WHO) calls\\n\\nan ‘infodemic’. Some of\\n\\nthe most dangerous\\n\\nfalsities have been\\n\\nadvanced by QAnon, a\\n\\nconspiracy theory\\n\\nmovement where fake\\n\\nnews, hate speech and\\n\\nparanoia collide.\\n\\nPopular\\n\\nnarratives feature\\n\\ntoxic COVID\\n\\n‘cures’; Trump’s\\n\\nsupposed war on\\n\\na left-wing,\\n\\nsatanic\\n\\npedophile ring;\\n\\nand the idea (lie)\\n\\nthat furniture\\n\\nretailer Wayfair\\n\\ntrafﬁcked\\n\\nchildren via\\n\\nproduct listings.\\n\\nYes, people\\n\\nbelieve this stuff.\\n\\nIncreasingly so.\\n\\nQAnon groups\\n\\ncollectively grew\\n\\n34% – to over 4\\n\\nmillion followers\\n\\nworldwide –\\n\\nbetween June\\n\\nand August.\\n\\nOf course, this issue\\n\\nextends beyond a single\\n\\nﬁshy source. It’s spread\\n\\nout like a spiderweb,\\n\\neach strand uniquely\\n\\nshaped by its location.\\n\\nRight now, The Fight for\\n\\nFacts is a world war...with\\n\\nlocal authorities often\\n\\nmaking matters worse.\\n\\nJust a few global\\n\\nsnapshots:\\n\\nIn Indonesia, with\\n\\nup to 70%\\n\\nﬂouting social\\n\\ndistancing rules,\\n\\nthe agriculture\\n\\nminister touted\\n\\nan eucalyptus\\n\\nnecklace ‘cure’.\\n\\nThe story in Brazil\\n\\nisn’t just one of\\n\\nﬂat-out falsities.\\n\\nIt’s also about\\n\\nframing and\\n\\nomission.\\n\\nThe Health\\n\\nMinistry’s\\n\\n“Scoreboard of\\n\\nLife” tracked total\\n\\nCOVID\\n\\nrecoveries and\\n\\ncases/deaths\\n\\nMeanwhile, in the\\n\\nUS, President\\n\\nTrump retweeted a\\n\\nvideo hailing\\n\\nhydroxychloroquine\\n\\n(try saying that ﬁve\\n\\ntimes fast!) and\\n\\ndissuading viewers\\n\\nfrom wearing\\n\\nmasks...which\\n\\ngarnered 16 million\\n\\nviews before being\\n\\nremoved.\\n\\nAnd (no) thanks to\\n\\nother viral videos\\n\\nlike “Plandemic”, a\\n\\n26-minute piece\\n\\nviewed 8 million\\n\\ntimes, nearly 3 in 10\\n\\nAmericans believe\\n\\nCOVID was\\n\\ndeveloped in a lab\\n\\nreported during\\n\\nthe past 24\\n\\nhours...not total\\n\\ndeaths. The\\n\\nSupreme Court\\n\\nordered the\\n\\ngovernment to\\n\\nquit hiding that\\n\\nthe country has\\n\\nthe world’s\\n\\nsecond-highest\\n\\nCOVID death\\n\\nrate.\\n\\nWe can’t discuss The\\n\\nFight for Facts without\\n\\nincluding the\\n\\nbattleground: the social\\n\\nplatforms. Consumers,\\n\\nfact- focused\\n\\ngovernments and brands\\n\\nalike are leading a Tech\\n\\nInquisition, ordering\\n\\nsocial giants to take on\\n\\nmisinformation. And so\\n\\nthey have – although how\\n\\nsuccessful these\\n\\nmeasures are isn’t clear.\\n\\n– with 23%\\n\\nbelieving it was\\n\\nformulated\\n\\nintentionally.\\n\\nFacebook said its\\n\\nAI removed\\n\\n134% more hate\\n\\nspeech posts in\\n\\nQ2 than Q1 and\\n\\n7 million false\\n\\nCOVID\\n\\nposts...yet\\n\\nFacebook is still\\n\\nbeing slammed\\n\\nfor its\\n\\nquestionable\\n\\njudgment calls\\n\\nand overall lack\\n\\nof progress.\\n\\nWhatsApp\\n\\ncreated a fact-\\n\\nchecking tool\\n\\nthat lets users\\n\\nresearch\\n\\nfrequently-\\n\\nforwarded\\n\\nOther brands – beyond\\n\\nBig Tech or media – are\\n\\nadditionally inspired to\\n\\ntake action. Why?\\n\\nFirst of all, they\\n\\nknow consumers\\n\\nare worried right\\n\\nnow. 56% of\\n\\nthem across 40\\n\\ncountries are\\n\\nconcerned about\\n\\nwhat is or isn’t\\n\\nreal online; 40%\\n\\nare particularly\\n\\nabout politicians\\n\\nmisleading the\\n\\npublic.\\n\\nMeanwhile,\\n\\nbrands are\\n\\nworrying about\\n\\nmessages on\\n\\nGoogle.\\n\\nTwitter pulled up\\n\\nthe curtain\\n\\nshrouding\\n\\npolitical\\n\\nmisinformation\\n\\ncampaigns – it\\n\\nbegan clearly\\n\\nlabelling\\n\\ngovernment\\n\\nofﬁcial and state-\\n\\nafﬁliated media\\n\\naccounts.\\n\\nConsumers expect your\\n\\nbrand to gear up and join\\n\\nThe Fight for Facts. One\\n\\nstudy found that just\\n\\nviewing fake news\\n\\nprompts consumers to\\n\\ndemand corrective action\\n\\nfrom brands. And 39% of\\n\\npeople globally expect\\n\\nbusinesses to be a\\n\\nreliable source for\\n\\ninformation.\\n\\nads. Google’s ad\\n\\ntools are placing\\n\\nbig brands’\\n\\ncampaigns on\\n\\nconspiracy sites\\n\\n(not a good look)\\n\\nand funneling at\\n\\nleast USD 25\\n\\nmillion to these\\n\\noutlets.\\n\\nWhere others\\n\\nmislead, your brand can lead.\\n\\nStep up to sound the alarm on\\n\\nfalsehoods and shine your\\n\\nspotlight on the facts. Your\\n\\ncustomers will thank you.\\n\\nThe Fight For Facts\\n\\nSee how brands around\\n\\nthe globe and across\\n\\nsectors are taking action\\n\\nin The Fight for Facts. Let\\n\\nthem inspire your\\n\\ncontribution to the\\n\\nmovement — even,\\n\\nperhaps, your\\n\\norganization’s larger\\n\\npurpose-beyond-proﬁts —\\n\\nand keep reading to\\n\\njumpstart your team\\n\\nbrainstorm!\\n\\n11111.....\\n\\nSOUFAN CENTER &\\n\\nTRUEPIC\\n\\nMIDDLE EAST\\n\\nAlliance verifies\\n\\nstories from COVID-\\n\\nimpacted conflict\\n\\nzones\\n\\nCould you combine\\n\\nlocal knowledge with\\n\\ndigital tools to reveal\\n\\nunderreported stories\\n\\nand identify\\n\\nmisinformation?\\n\\nThe Soufan Center, a\\n\\nnonproﬁt in the Middle\\n\\nEast, teamed up with\\n\\nveriﬁcation platform\\n\\nTruepic to encourage\\n\\nWestern countries to\\n\\nsend aid to COVID-\\n\\nimpacted conﬂict zones,\\n\\nby spotlighting the\\n\\nstories of people living\\n\\nthere. Citizen journalists\\n\\nin countries such as\\n\\nYemen and Syria\\n\\nconducted on-the-\\n\\nground interviews with\\n\\ncivilians using Truepic’s\\n\\ntool. As photos and\\n\\nvideos were taken, the\\n\\nsoftware completed 22\\n\\nveriﬁcation checks in real-\\n\\ntime to detect image\\n\\nmanipulation. The ﬁrst\\n\\nveriﬁed interview was\\n\\npublished in June 2020.\\n\\n22222.....\\n\\nTERVEYSTALO\\n\\nFINALND\\n\\nHealthcare\\n\\nprovider calls for\\n\\nverification badges for\\n\\nscientists\\n\\nWhat if healthcare\\n\\nprofessionals could be\\n\\nveriﬁed in the same\\n\\nway as inﬂuencers? This\\n\\ncampaign challenged\\n\\nsocial media platforms\\n\\nto do more to promote\\n\\ntrustworthy sources.\\n\\nIn June 2020, Finland-\\n\\nbased healthcare service\\n\\ncompany Terveystalo\\n\\nlaunched the ‘Essential\\n\\nInﬂuencers’ campaign,\\n\\ncalling on social media\\n\\nplatforms to create a\\n\\n‘veriﬁed’ badge to\\n\\nhighlight scientists,\\n\\ndoctors, and public\\n\\nhealth ofﬁcials who\\n\\nprovide accurate,\\n\\nunbiased and relevant\\n\\ninformation about\\n\\ncoronavirus. Terveystalo\\n\\nsuggested that the icon\\n\\ncould be similar to ones\\n\\nused to verify celebrities\\n\\nand public ﬁgures.\\n\\n33333.....\\n\\nPANDEMICTALKS\\n\\nINDONESIA\\n\\nContent series\\n\\ntackles false health\\n\\ninformation\\n\\nNot all information on\\n\\nsocial media is fake!\\n\\nAsk your experts to lead\\n\\nuseful conversions\\n\\naround topics that\\n\\nmight be downplayed\\n\\nby local authorities or\\n\\nmainstream media\\n\\noutlets.\\n\\nLaunched in April 2020,\\n\\nPandemicTalks tackles\\n\\nCOVID-19\\n\\nmisconceptions in\\n\\nIndonesia, focusing on\\n\\nscientiﬁc facts and\\n\\neconomic, social and\\n\\npolitical issues. The\\n\\ninitiative, launched by\\n\\ntwo scientists and a\\n\\njournalist, includes an\\n\\nInstagram account and a\\n\\nSpotify podcast series.\\n\\nFollowers are\\n\\nencouraged to report\\n\\nundetected cases in the\\n\\ncommunity – including\\n\\ngrowing ofﬁce clusters –\\n\\nthrough Instagram\\n\\nStories’ Q&A feature. As\\n\\nof August, Pandemic\\n\\nTalks had produced 21\\n\\npodcast episodes.\\n\\n44444.....\\n\\nQUARANTRIVIA\\n\\nCANADA\\n\\nOnline game\\n\\ncombats COVID-19\\n\\nmisinformation\\n\\nIn the Fight for Facts,\\n\\nconsider the tone of\\n\\nyour delivery. Games\\n\\nare one (playful and\\n\\nnon-judgemental) way\\n\\nto educate consumers\\n\\nabout the limits of their\\n\\nown knowledge...\\n\\nAugust 2020 saw Ridhi\\n\\nPatel, a student at the\\n\\nUniversity of Waterloo in\\n\\nCanada, create\\n\\nQuarantrivia: a free\\n\\nonline game designed to\\n\\ntackle misconceptions\\n\\nabout COVID-19. In the\\n\\ngame, players need to\\n\\nremove a virus from ‘Pixel\\n\\nWorld’ by teaming up\\n\\nwith ‘Doctor Pixel’ and\\n\\nanswering a series of\\n\\nmultiple-choice\\n\\nquestions. Quarantrivia\\n\\ncan be played on mobile\\n\\nand desktop, and is\\n\\nbacked by the Centers for\\n\\nDisease Control and\\n\\nPrevention (CDC) and the\\n\\nWorld Health\\n\\nOrganization (WHO).\\n\\n55555.....\\n\\nPERNOD RICARD\\n\\nUS\\n\\nApp helps\\n\\nusers identify hate\\n\\nspeech on Facebook\\n\\nThe Black Lives Matter\\n\\nprotests highlighted the\\n\\nneed for regulation\\n\\naround hate speech.\\n\\nBeyond speaking out\\n\\nabout issues, how will\\n\\nyou push for real\\n\\nchange?\\n\\nIn July 2020, the US arm\\n\\nof alcohol brand Pernod\\n\\nRicard announced plans\\n\\nto develop an app to\\n\\nhelp consumers report\\n\\nhate speech on social\\n\\nplatforms and see\\n\\nwhether (and why) those\\n\\nposts will remain or be\\n\\nremoved. The company\\n\\nhalted its paid Facebook\\n\\nads for July, as part of the\\n\\nmulti-brand\\n\\n#StopHateForProﬁt\\n\\ncampaign. The new app\\n\\naims to ensure Pernod\\n\\nRicard can use its\\n\\ninﬂuence to pressure\\n\\nplatforms to be\\n\\ntransparent on their\\n\\n66666.....\\n\\nCANON\\n\\nDENMARK\\n\\nDatabase prevents\\n\\npress photos from\\n\\nbeing\\n\\nmisappropriated\\n\\nreview processes and\\n\\ndelete harmful content.\\n\\nBy empowering\\n\\nphotographers and\\n\\nrebuilding trust, Canon\\n\\nshows a commitment to\\n\\n‘truth’. How could a\\n\\ndisinformation\\n\\ncampaign tell the world\\n\\nwhat you stand for?\\n\\nIn July 2020, Canon\\n\\nEurope launched\\n\\nTruthMark: a database\\n\\nthat allows\\n\\nphotographers to tell the\\n\\nstory behind an image.\\n\\nPhotographers can\\n\\nupload photos and\\n\\nwritten documentation,\\n\\ninformation and context\\n\\nto the public database.\\n\\nThe information is\\n\\nencrypted into the\\n\\nphotos,and users can\\n\\nsearch the database and\\n\\ndiscover the photo’s\\n\\norigin. TruthMark,\\n\\ndeveloped with\\n\\nDenmark-based agency\\n\\n77777.....\\n\\nMEDLEY\\n\\nUS\\n\\nNetwork connects\\n\\npeople from different\\n\\nwalks of life\\n\\nUncle Grey, also uses AI\\n\\nto allow users to obtain\\n\\ninformation about altered\\n\\nimages.\\n\\nWhat about tools and\\n\\nservices that foster\\n\\nempathy and self-\\n\\ndevelopment? Medley\\n\\nhelps participants see\\n\\nthe view from the other\\n\\nside.\\n\\nLaunched in the US in\\n\\nJuly 2020, Medley is a\\n\\nmembership-based\\n\\ncommunity that connects\\n\\npeople from different\\n\\nwalks of life through\\n\\nvirtual sessions. Medley\\n\\ngroups professionals with\\n\\nother like-minded\\n\\nmembers who differ in\\n\\ngender and ethnic\\n\\nbackground. Operating\\n\\non a sliding scale fee,\\n\\nranging from USD 50 to\\n\\nUSD 250 per month or\\n\\nUSD 1,500 annually,\\n\\nMedley offers access to\\n\\nworkshops, panels, and\\n\\nThe Fight For Facts\\n\\nWe’re not kidding when\\n\\nwe say we want to get\\n\\nyour brand making shifts\\n\\nand making sh*t happen!\\n\\nThat’s why we created a\\n\\nhandy checklist to\\n\\nkickstart your ideation\\n\\nsession around Hands\\n\\nOff...But Human. So get\\n\\nyour team on a call,\\n\\nexplore each point and\\n\\nexercise, and check them\\n\\noff when you’re done.\\n\\nHappy innovating!\\n\\nconversations led by\\n\\nexperts.\\n\\nMORE THAN\\n\\nWORDS\\n\\nWhat’s better than\\n\\nsupporting a cause?\\n\\nGetting out there and\\n\\ndoing something to\\n\\ntackle the root of the\\n\\nissue! Unlike others in the\\n\\nStopHateForProﬁt\\n\\nmovement, Pernod Ricard\\n\\ndidn’t simply pledge to\\n\\nremove Facebook ads\\n\\nand leave it at that. It built\\n\\nan interactive tool that\\n\\nwent right to the heart of\\n\\nthe problem.\\n\\nEXPERT-TO-\\n\\nCUSTOMER\\n\\nYou’re already aware of\\n\\npervasive distrust in the\\n\\nmedia and online\\n\\ncontent. But you know\\n\\nwho 79% of consumers\\n\\nglobally do trust?\\n\\nScientists! Guess who\\n\\nemploys them? Many of\\n\\nyou! So get your\\n\\nscientists out of the lab,\\n\\nturn on the mic and\\n\\nconnect them to\\n\\nconsumers.\\n\\n3 ideas to discuss:\\n\\nOne place to start?\\n\\nConsider where you\\n\\nalready have\\n\\ncredibility, and how\\n\\nthat ﬁeld ties in to\\n\\nThe Fight for Facts;\\n\\nsee how Canon\\n\\nfocused on\\n\\ndoctored images.\\n\\nHow can you utilize\\n\\nyour brand’s\\n\\nexpertise to join the\\n\\nFight and create a\\n\\ntool consumers will\\n\\ntrust - speciﬁcally\\n\\nbecause it comes\\n\\nfrom you?\\n\\nConnect your\\n\\nscientiﬁc minds with\\n\\nyour creatives. What\\n\\ncompelling content\\n\\ncould you release to\\n\\ndispel\\n\\nmisinformation?\\n\\nSee how scientists\\n\\nin the UK created\\n\\nPlanet DIVOC-91, a\\n\\nsatirical comic book\\n\\npacked with facts.\\n\\nThink beyond\\n\\nwhat’s a hot topic\\n\\nright now and\\n\\nconsider where\\n\\nmisinformation\\n\\nPlatforms like\\n\\nWhatsApp are\\n\\ndirecting users to\\n\\nGoogle searches\\n\\nand articles. The\\n\\nproblem? You can’t\\n\\nhave a back-and-\\n\\nforth with an article.\\n\\nIf your in-house\\n\\nexpert knows their\\n\\nstuff about current\\n\\nissues, offer\\n\\ncustomers Q&A or\\n\\nAsk-Me-Anything\\n\\nsessions on a one-\\n\\noff or ongoing\\n\\nbasis?\\n\\nEXERCISES IN\\n\\nACCURACY\\n\\nA study from MIT found\\n\\nthat asking people to\\n\\nassess the accuracy of a\\n\\nfake news post — rather\\n\\nthan calling on them to\\n\\nshare — made them 32%\\n\\nless likely to spread the\\n\\nmisinformation online.\\n\\nThere’s an opportunity to\\n\\nspur a new way of\\n\\nthinking among\\n\\nconsumers.\\n\\nLook at groups that\\n\\nare speciﬁcally\\n\\nvulnerable to false\\n\\nor biased\\n\\ninformation in your\\n\\nmight be seeping\\n\\ninto your industry,\\n\\nspeciﬁcally. What’s\\n\\nconfusing\\n\\ncustomers about\\n\\nyour sector? Where\\n\\nwould your experts’\\n\\nadvice be deeply\\n\\nappreciated?\\n\\narea. Like\\n\\nconsumers over 50,\\n\\nwho are often less\\n\\nable to identify it\\n\\nonline and may not\\n\\nbe as ‘digitally-\\n\\nsavvy’. Could you\\n\\nconduct an\\n\\ninformative yet fun\\n\\nexercise in accuracy\\n\\nwith them? Get\\n\\ninspired by\\n\\nQuarantrivia!\\n\\nTHE RIGHT\\n\\nTIMING\\n\\nQuick confession: One\\n\\nreason we released The\\n\\nFight for Facts now is\\n\\nbecause of the world-\\n\\nshifting, polarizing US\\n\\nelection — which is being\\n\\nheavily inﬂuenced by fake\\n\\nnews — coming up in two\\n\\nmonths. We want to give\\n\\nyour team a chance to\\n\\nrespond! Yet we’re aware,\\n\\nof course, that many of\\n\\nour clients and\\n\\nsubscribers are based\\n\\noutside the US.\\n\\nIs there a divisive\\n\\npolitical event\\n\\napproaching in your\\n\\ncorner of the world?\\n\\nOne that might\\n\\nprompt a ﬂurry of\\n\\nmisinformation or\\n\\nmisleading content?\\n\\nWhat could your\\n\\nbrand offer as a\\n\\nresource to\\n\\ncustomers (and the\\n\\ngeneral public!)\\n\\nduring this time?\\n\\nRADICAL TALKS\\n\\nYour brand can do its part\\n\\nto combat misinformation\\n\\nplaguing each end of the\\n\\npolitical spectrum. How?\\n\\nBe brave and do what not\\n\\nenough of us are doing:\\n\\nholding respectful\\n\\nconversations with those\\n\\nwhose views differ from\\n\\nour own. It may be\\n\\ndifﬁcult and painful. But\\n\\nit’s one of the few ways\\n\\nwe can genuinely bridge\\n\\ndivides. It could even\\n\\nhelp you shape a new\\n\\ntype of brand purpose or\\n\\nmeaningful approach to\\n\\ninnovation.\\n\\nThese talks can kick\\n\\noff via peer- to-peer\\n\\nplatforms like\\n\\nMedley. Could you\\n\\ncreate tech that\\n\\nuses curiosity,\\n\\ntolerance and\\n\\ninclusion as its\\n\\nstarting point? Can\\n\\nyou help people\\n\\nsee the humans (not\\n\\njust views!) on the\\n\\nother side?\\n\\nCould you apply a\\n\\ndialogue like\\n\\nHeineken’s Worlds\\n\\nApart in 2017 to\\n\\nyour internal\\n\\nculture, today? How\\n\\ncould you form a\\n\\nsafe space, where\\n\\nthose who wish to\\n\\nparticipate can\\n\\nshare their\\n\\nperspectives? There\\n\\nare risks, but the\\n\\npayoff includes an\\n\\nunparalleled sense\\n\\nof camaraderie. This\\n\\nis a radical idea in a\\n\\nquick-to-react\\n\\nworld. Take it or\\n\\nleave it — no\\n\\njudgement!\\n\\nNOW, TAKE\\n\\nACTION\\n\\nOur team has a saying:\\n\\nTracking trends is useless\\n\\nunless you apply them.\\n\\nThat’s why we want your\\n\\nteam to create new\\n\\nproducts, services,\\n\\nexperiences, and\\n\\ncampaigns rooted in The\\n\\nFight For Facts – ASAP.\\n\\nHere’s what to do:\\n\\nStep 1: Share this\\n\\nedition of Make→Shift with your team! Assign\\n\\nsome homework:\\n\\nHave everyone read\\n\\nthrough the\\n\\nbrieﬁng.\\n\\nTalk to us\\n\\nWe want to hear from\\n\\nyou. Did anything in this\\n\\nissue spark an action or\\n\\nchange in you or your\\n\\norganization’s objectives?\\n\\nGet in touch with us at\\n\\ncrew@trendwatching.com.\\n\\nWe’ve given you so\\n\\nmany ways to share Make→Shift with your colleagues\\n\\n(you’re welcome!):\\n\\nvia LinkedIn,\\n\\nFacebook, email,\\n\\nWhatsApp, you\\n\\nname it. Click the\\n\\nbuttons below to\\n\\nshare!\\n\\nStep 2: Get everyone on a\\n\\nvideo call ASAP for an\\n\\ninnovation workshop.\\n\\nDiscuss the ﬁve prompts\\n\\nabove. Most importantly,\\n\\nbegin innovating! Good\\n\\nluck!\\n\\nSHARE\\n\\nJoin 100,000+ future-focused\\n\\nprofessionals in 180 countries alread\\n\\nHere's the\\n\\nopportunities you\\n\\nmay have missed.\\n\\nRead our previous brieﬁngs\\n\\nMake→Shift has many hands in it, including:\\n\\nWords\\n\\nLisa Feierstein, Vicki Loomes\\n\\nand Thomas Klaffke\\n\\nDesign & Direction\\n\\nZuzanna Loch, Nikki Ritmeijer,\\n\\nClara Olsen and Stephen Warr\\n\\nWith thanks to our community\\n\\nand all purpose-driven\\n\\nindividuals and organizations\\n\\nworldwide.\\n\\nJoin 100,000+ professionals who receive our free trend updates:\\n\\n© 2002 - 2021 TrendWatching BV.\\n\\nCookie & Privacy Policy\\n\\nreceiving a world of meaningful\\n\\nopportunities. Weekly.\\n\\nStart acting on meaningful\\n\\nopportunites. Today.\\n\\nYour email here\\n\\nSign u\""
      ]
     },
     "execution_count": 20,
     "metadata": {},
     "output_type": "execute_result"
    }
   ],
   "source": [
    "# Preview first page\n",
    "data[0].page_content"
   ]
  },
  {
   "cell_type": "markdown",
   "metadata": {
    "vscode": {
     "languageId": "plaintext"
    }
   },
   "source": [
    "# Vector Embeddings"
   ]
  },
  {
   "cell_type": "code",
   "execution_count": 21,
   "metadata": {},
   "outputs": [
    {
     "name": "stdout",
     "output_type": "stream",
     "text": [
      "Error: could not connect to ollama app, is it running?\n"
     ]
    }
   ],
   "source": [
    "!ollama pull nomic-embed-text"
   ]
  },
  {
   "cell_type": "code",
   "execution_count": 22,
   "metadata": {},
   "outputs": [
    {
     "name": "stdout",
     "output_type": "stream",
     "text": [
      "Error: could not connect to ollama app, is it running?\n"
     ]
    }
   ],
   "source": [
    "!ollama list"
   ]
  },
  {
   "cell_type": "code",
   "execution_count": 23,
   "metadata": {},
   "outputs": [
    {
     "name": "stdout",
     "output_type": "stream",
     "text": [
      "Note: you may need to restart the kernel to use updated packages.\n",
      "Note: you may need to restart the kernel to use updated packages.\n"
     ]
    }
   ],
   "source": [
    "%pip install --q chromadb\n",
    "%pip install --q langchain-text-splitters"
   ]
  },
  {
   "cell_type": "code",
   "execution_count": 24,
   "metadata": {},
   "outputs": [],
   "source": [
    "from langchain_community.embeddings import OllamaEmbeddings\n",
    "from langchain_text_splitters import RecursiveCharacterTextSplitter\n",
    "from langchain_community.vectorstores import Chroma"
   ]
  },
  {
   "cell_type": "code",
   "execution_count": 25,
   "metadata": {},
   "outputs": [],
   "source": [
    "# Split and chunk\n",
    "text_splitter = RecursiveCharacterTextSplitter(chunk_size=7500, chunk_overlap=100)\n",
    "chunks = text_splitter.split_documents(data)"
   ]
  },
  {
   "cell_type": "code",
   "execution_count": 27,
   "metadata": {},
   "outputs": [
    {
     "name": "stderr",
     "output_type": "stream",
     "text": [
      "\n",
      "OllamaEmbeddings:   0%|          | 0/3 [00:00<?, ?it/s]"
     ]
    },
    {
     "name": "stderr",
     "output_type": "stream",
     "text": [
      "OllamaEmbeddings: 100%|██████████| 3/3 [00:02<00:00,  1.26it/s]\n"
     ]
    }
   ],
   "source": [
    "vector_db = Chroma.from_documents(\n",
    "  documents=chunks,\n",
    "  embedding=OllamaEmbeddings(model=\"nomic-embed-text\", show_progress=True),\n",
    "  collection_name=\"local-rag\"\n",
    ")"
   ]
  },
  {
   "cell_type": "markdown",
   "metadata": {
    "vscode": {
     "languageId": "plaintext"
    }
   },
   "source": [
    "# Retrieval"
   ]
  },
  {
   "cell_type": "code",
   "execution_count": 28,
   "metadata": {},
   "outputs": [],
   "source": [
    "from langchain.prompts import ChatPromptTemplate, PromptTemplate\n",
    "from langchain_core.output_parsers import StrOutputParser\n",
    "from langchain_community.chat_models import ChatOllama\n",
    "from langchain_core.runnables import RunnablePassthrough\n",
    "from langchain.retrievers.multi_query import MultiQueryRetriever"
   ]
  },
  {
   "cell_type": "code",
   "execution_count": 29,
   "metadata": {},
   "outputs": [],
   "source": [
    "# LLM from Ollama\n",
    "local_model = \"llama3\"\n",
    "llm = ChatOllama(model=local_model)"
   ]
  },
  {
   "cell_type": "code",
   "execution_count": 30,
   "metadata": {},
   "outputs": [],
   "source": [
    "QUERY_PROMPT = PromptTemplate(\n",
    "  input_variables=[\"question\"],\n",
    "  template=\"\"\"You are an AI language model assistant. Your task is to generate five\n",
    "    different versions of the given user question to retrieve relevant documents from\n",
    "    a vector database. By generating multiple perspectives on the user question, your\n",
    "    goal is to help the user overcome some of the limitations of the distance-based\n",
    "    similarity search. Provide these alternative questions separated by newlines.\n",
    "    Original question: {question}\"\"\"\n",
    ")\n"
   ]
  },
  {
   "cell_type": "code",
   "execution_count": 31,
   "metadata": {},
   "outputs": [],
   "source": [
    "retriever = MultiQueryRetriever.from_llm(\n",
    "  vector_db.as_retriever(),\n",
    "  llm,\n",
    "  prompt=QUERY_PROMPT\n",
    ")\n",
    "\n",
    "# RAG prompt\n",
    "template = \"\"\"Answer the question based ONLY on the following context\n",
    "{context}\n",
    "Question: {question}\n",
    "\"\"\"\n",
    "\n",
    "prompt = ChatPromptTemplate.from_template(template)"
   ]
  },
  {
   "cell_type": "code",
   "execution_count": 32,
   "metadata": {},
   "outputs": [],
   "source": [
    "chain = (\n",
    "  {\"context\": retriever, \"question\": RunnablePassthrough()}\n",
    "  | prompt\n",
    "  | llm\n",
    "  | StrOutputParser()\n",
    ")"
   ]
  },
  {
   "cell_type": "code",
   "execution_count": 34,
   "metadata": {},
   "outputs": [
    {
     "name": "stderr",
     "output_type": "stream",
     "text": [
      "OllamaEmbeddings: 100%|██████████| 1/1 [00:00<00:00,  1.01it/s]\n",
      "Number of requested results 4 is greater than number of elements in index 3, updating n_results = 3\n",
      "OllamaEmbeddings: 100%|██████████| 1/1 [00:00<00:00, 32.78it/s]\n",
      "Number of requested results 4 is greater than number of elements in index 3, updating n_results = 3\n",
      "OllamaEmbeddings: 100%|██████████| 1/1 [00:00<00:00, 28.52it/s]\n",
      "Number of requested results 4 is greater than number of elements in index 3, updating n_results = 3\n",
      "OllamaEmbeddings: 100%|██████████| 1/1 [00:00<00:00, 50.33it/s]\n",
      "Number of requested results 4 is greater than number of elements in index 3, updating n_results = 3\n",
      "OllamaEmbeddings: 100%|██████████| 1/1 [00:00<00:00, 17.99it/s]\n",
      "Number of requested results 4 is greater than number of elements in index 3, updating n_results = 3\n",
      "OllamaEmbeddings: 100%|██████████| 1/1 [00:00<00:00, 56.25it/s]\n",
      "Number of requested results 4 is greater than number of elements in index 3, updating n_results = 3\n",
      "OllamaEmbeddings: 100%|██████████| 1/1 [00:00<00:00, 37.78it/s]\n",
      "Number of requested results 4 is greater than number of elements in index 3, updating n_results = 3\n",
      "OllamaEmbeddings: 100%|██████████| 1/1 [00:00<00:00, 49.72it/s]\n",
      "Number of requested results 4 is greater than number of elements in index 3, updating n_results = 3\n",
      "OllamaEmbeddings: 100%|██████████| 1/1 [00:00<00:00, 34.69it/s]\n",
      "Number of requested results 4 is greater than number of elements in index 3, updating n_results = 3\n",
      "OllamaEmbeddings: 100%|██████████| 1/1 [00:00<00:00, 38.59it/s]\n",
      "Number of requested results 4 is greater than number of elements in index 3, updating n_results = 3\n",
      "OllamaEmbeddings: 100%|██████████| 1/1 [00:00<00:00, 33.63it/s]\n",
      "Number of requested results 4 is greater than number of elements in index 3, updating n_results = 3\n",
      "OllamaEmbeddings: 100%|██████████| 1/1 [00:00<00:00, 56.54it/s]\n",
      "Number of requested results 4 is greater than number of elements in index 3, updating n_results = 3\n",
      "OllamaEmbeddings: 100%|██████████| 1/1 [00:00<00:00, 27.91it/s]\n",
      "Number of requested results 4 is greater than number of elements in index 3, updating n_results = 3\n"
     ]
    },
    {
     "name": "stdout",
     "output_type": "stream",
     "text": [
      "I've analyzed the provided context, which is focused on \"The Fight For Facts\"\n",
      "trendwatching report by TrendWatching Make→Shift. Based on this report, here are\n",
      "some trends and companies you may want to consider when building your startup:\n",
      "1. **Verification badges**: Terveystalo's \"Essential Influencers\" campaign\n",
      "suggests creating a badge for trustworthy sources. You could explore similar\n",
      "ideas for verifying the identities and credibility of your users. 2. **Digital\n",
      "tools for local knowledge**: The Soufan Center's collaboration with Truepic\n",
      "showcases how digital tools can be used to verify stories from underreported\n",
      "areas. You might consider integrating local knowledge or insights into your\n",
      "platform to enhance the experience of meeting strangers. 3. **Social media\n",
      "platforms**: As a startup focused on in-person interactions, you'll likely need\n",
      "to coexist with social media platforms. Understanding their verification\n",
      "processes and potential badges for trustworthy sources could help you design a\n",
      "more robust system. 4. **Healthcare provider's call for verification**:\n",
      "Terveystalo's campaign highlights the importance of verifying experts'\n",
      "credibility. You might want to consider creating a similar system for your\n",
      "users, ensuring that they're interacting with trustworthy individuals.  Some\n",
      "companies and trends to keep an eye on:  1. **Truepic**: A verification platform\n",
      "used by The Soufan Center. 2. **Terveystalo**: A Finnish-based healthcare\n",
      "service company that launched the \"Essential Influencers\" campaign. 3. **Soufan\n",
      "Center**: A non-profit organization in the Middle East, which uses digital tools\n",
      "to verify stories from underreported areas.  To further improve your innovation:\n",
      "1. **Explore local knowledge and insights**: Integrate local perspectives or\n",
      "expertise into your platform to enhance the experience of meeting strangers. 2.\n",
      "**Design a robust verification system**: Consider creating a badge-like system\n",
      "for verifying users' identities and credibility. 3. **Coexist with social media\n",
      "platforms**: Understand how social media platforms verify sources and explore\n",
      "potential badges for trustworthy sources. 4. **Stay up-to-date on trends in\n",
      "fact-checking and verification**: Follow the developments in fact-checking and\n",
      "verification to stay ahead of the curve.  Remember, these are just suggestions\n",
      "based on the provided context. Your startup's success will depend on your unique\n",
      "approach and execution.\n"
     ]
    }
   ],
   "source": [
    "import textwrap\n",
    "response = chain.invoke(\"I am building a startup to make friends with strangers and meet them in bars and restaurants. List the trends and companies that I should know about to improve my innovation?\")\n",
    "print('\\n'.join(textwrap.wrap(response, width=80)))"
   ]
  }
 ],
 "metadata": {
  "kernelspec": {
   "display_name": "Python 3",
   "language": "python",
   "name": "python3"
  },
  "language_info": {
   "codemirror_mode": {
    "name": "ipython",
    "version": 3
   },
   "file_extension": ".py",
   "mimetype": "text/x-python",
   "name": "python",
   "nbconvert_exporter": "python",
   "pygments_lexer": "ipython3",
   "version": "3.9.6"
  }
 },
 "nbformat": 4,
 "nbformat_minor": 2
}
